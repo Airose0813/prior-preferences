{
 "cells": [
  {
   "cell_type": "markdown",
   "metadata": {},
   "source": [
    "T. Tarantola, D. Kumaran, P. Dayan, & B. De Martino. (in press) Prior preferences beneficially influence social and non-social learning. <it>Nature Communications</it>."
   ]
  },
  {
   "cell_type": "markdown",
   "metadata": {},
   "source": [
    "#Data Extraction & Exclusion Tests: Social Experiment"
   ]
  },
  {
   "cell_type": "code",
   "execution_count": 1,
   "metadata": {
    "collapsed": false
   },
   "outputs": [
    {
     "name": "stderr",
     "output_type": "stream",
     "text": [
      ":0: FutureWarning: IPython widgets are experimental and may change in the future.\n"
     ]
    }
   ],
   "source": [
    "import glob\n",
    "import pandas as pd\n",
    "import numpy as np\n",
    "import matplotlib.pyplot as plt\n",
    "import matplotlib.patches as mpatches\n",
    "import matplotlib.gridspec as gridspec\n",
    "import statsmodels.api as sm\n",
    "import scipy.stats as ss\n",
    "from scipy.optimize import curve_fit\n",
    "import pylab as pl\n",
    "import math\n",
    "import seaborn as sns\n",
    "import rpy2\n",
    "import pystan\n",
    "from pystan.external.pymc import plots\n",
    "import pickle\n",
    "\n",
    "% matplotlib inline\n",
    "pd.options.display.max_rows = 999 # Set the maximum display to 999 rows so the entire dataframe is visible in the notebook\n",
    "pd.options.display.max_columns = 999 # Same for columns"
   ]
  },
  {
   "cell_type": "markdown",
   "metadata": {},
   "source": [
    "##Data extraction (behavioral)"
   ]
  },
  {
   "cell_type": "markdown",
   "metadata": {},
   "source": [
    "### Import Data\n",
    "First, we import and concatenate the CSV files that PsychoPy generates for each experimental session. We put this in our data frame, called \"data.\""
   ]
  },
  {
   "cell_type": "code",
   "execution_count": 2,
   "metadata": {
    "collapsed": true
   },
   "outputs": [],
   "source": [
    "path =r'../data/social/raw_data' # This is the folder that all data CSV files are saved in\n",
    "allFiles = glob.glob(path + '/*.csv')\n",
    "data = pd.DataFrame()\n",
    "list = []\n",
    "for files in allFiles: # Read all CSV files in the \"path\" folder\n",
    "    df = pd.read_csv(files, index_col=None, header=0)\n",
    "    list.append(df)\n",
    "data = pd.concat(list) # Concatenate all CSV files into one big data frame called \"data\"\n",
    "\n",
    "# Replace dots in variable names with underscores, to make it easier for pandas to handle\n",
    "data.rename(columns=lambda x: x.replace('.', '_'), inplace=True)"
   ]
  },
  {
   "cell_type": "markdown",
   "metadata": {},
   "source": [
    "Then import the item familiarity/consumption data, which was entered by hand based on participants' pen-and-paper survey responses."
   ]
  },
  {
   "cell_type": "code",
   "execution_count": 3,
   "metadata": {
    "collapsed": true
   },
   "outputs": [],
   "source": [
    "fam = pd.read_csv('../data/social/familiarity/familiarity_data_social.csv', index_col=0, header=None) # Import the CSV file\n",
    "fam.index.name = 'participant' # Name the index of the data frame 'participant'\n",
    "item_idx = fam.iloc[0] # Extract the name of each item to use as a column index later\n",
    "rating_idx = fam.iloc[1] # Do the same for 'familiarity' and 'consumed' rating labels\n",
    "fam.columns = [pd.Index(item_idx, name='item'),pd.Index(rating_idx, name='rating')] # Specify a hierarchical column index\n",
    "fam = fam.iloc[2:] # Remove empty cells\n",
    "fam = fam.stack('item') # Stack the data frame by item"
   ]
  },
  {
   "cell_type": "markdown",
   "metadata": {},
   "source": [
    "### Calculate and create new variable columns in the data frame\n",
    "We sort the data first by participant, then participant's experimental session (there might be more than one if the task crashed, etc), the image pair, the rest block it was presented during, and lastly the order of presentation within that block.\n",
    "\n",
    "We then index the data frame by this new order."
   ]
  },
  {
   "cell_type": "code",
   "execution_count": 4,
   "metadata": {
    "collapsed": false
   },
   "outputs": [
    {
     "name": "stderr",
     "output_type": "stream",
     "text": [
      "/anaconda/lib/python2.7/site-packages/IPython/kernel/__main__.py:1: FutureWarning: sort(columns=....) is deprecated, use sort_values(by=.....)\n",
      "  if __name__ == '__main__':\n"
     ]
    }
   ],
   "source": [
    "data = data.sort(['participant','session','img_correct','block_loop_thisN','trial_loop_thisN']) # Sort the data\n",
    "data.index = range(1,len(data)+1) # Re-do the index so it conforms to the sorted data"
   ]
  },
  {
   "cell_type": "markdown",
   "metadata": {},
   "source": [
    "#### Bid and choice tasks\n",
    "First, create two variables to explicitly indicate the participant's chosen and unchosen items in the binary choice task:"
   ]
  },
  {
   "cell_type": "code",
   "execution_count": 5,
   "metadata": {
    "collapsed": true
   },
   "outputs": [],
   "source": [
    "for x in range(1,len(data)+1):\n",
    "    if data.loc[x,'key_resp_choice_keys']=='left':\n",
    "        data.loc[x,'chosen']=data.loc[x,'choice_left']\n",
    "        data.loc[x,'unchosen']=data.loc[x,'choice_right']\n",
    "    elif data.loc[x,'key_resp_choice_keys']=='right':\n",
    "        data.loc[x,'chosen']=data.loc[x,'choice_right']\n",
    "        data.loc[x,'unchosen']=data.loc[x,'choice_left']"
   ]
  },
  {
   "cell_type": "markdown",
   "metadata": {},
   "source": [
    "Next, calculate the z-scores for each bid, by participant, using the first and second bid task as separate populations."
   ]
  },
  {
   "cell_type": "code",
   "execution_count": 6,
   "metadata": {
    "collapsed": false
   },
   "outputs": [],
   "source": [
    "bid_means = data.groupby(['participant']).bdm_bid1_response.mean() # Calculate each participant's mean bid\n",
    "bid_sds = data.groupby(['participant']).bdm_bid1_response.std(ddof=0) # Calculate each participant's standard deviation of their bids\n",
    "\n",
    "for x in range(1,len(data)+1): # For all rows...\n",
    "    p = data.loc[x,'participant'] # Variable for the participant\n",
    "    p_mean = bid_means[p] # Variable for that participant's mean bid\n",
    "    p_sd = bid_sds[p] # That participant's bid SD\n",
    "    bid = data.loc[x,'bdm_bid1_response'] # If that row is from the bid task, variable for that bid\n",
    "    data.loc[x,'bdm_bid_response_zscore'] = (bid - p_mean)/p_sd # Add a new variable to the dataframe with that bid's z-score at the participant level"
   ]
  },
  {
   "cell_type": "markdown",
   "metadata": {},
   "source": [
    "Import the item familiarity and consumption quesitonnaire data, including their within-participant z-scores, into the BDM task rows. \n",
    "\n",
    "The value labels are:\n",
    "\n",
    "Familiarity: \"How familiar are you with this item?\"\n",
    "\n",
    "    1 = Not at all\n",
    "    2 = Somewhat\n",
    "    3 = Very\n",
    "\n",
    "Consumption: \"How often have you consumed this item?\"\n",
    "\n",
    "    1 = Never\n",
    "    2 = Sometimes\n",
    "    3 = Frequently"
   ]
  },
  {
   "cell_type": "code",
   "execution_count": 7,
   "metadata": {
    "collapsed": true
   },
   "outputs": [],
   "source": [
    "for x in range(1,len(data)+1):\n",
    "    if not pd.isnull(data.loc[x,'bdm_img']): # If the row is part of either BDM task\n",
    "        p = data.loc[x,'participant']\n",
    "        itm = data.loc[x,'bdm_img']\n",
    "        data.loc[x,'familiarity'] = fam.ix[p,itm]['familiarity'] # Merge familiarity rating from familiarity data frame into main data frame for that participant and BDM item\n",
    "        data.loc[x,'consumed'] = fam.ix[p,itm]['consumed'] # Do the same for consumption ratings\n",
    "# Convert new variables into floats\n",
    "data['familiarity'] = data['familiarity'].astype(float)\n",
    "data['consumed'] = data['consumed'].astype(float)"
   ]
  },
  {
   "cell_type": "code",
   "execution_count": 8,
   "metadata": {
    "collapsed": true
   },
   "outputs": [],
   "source": [
    "# Calculate familiarity and consumed z-scores within participant\n",
    "fam_means = data.groupby(['participant']).familiarity.mean()\n",
    "fam_sds = data.groupby(['participant']).familiarity.std(ddof=0)\n",
    "cons_means = data.groupby(['participant']).consumed.mean()\n",
    "cons_sds = data.groupby(['participant']).consumed.std(ddof=0)\n",
    "\n",
    "for x in range(1,len(data)+1):\n",
    "    p = data.loc[x,'participant']\n",
    "    p_mean_fam = fam_means[p]\n",
    "    p_mean_cons = cons_means[p]\n",
    "    p_sd_fam = fam_sds[p]\n",
    "    p_sd_cons = cons_sds[p]\n",
    "    fam = data.loc[x,'familiarity']\n",
    "    cons = data.loc[x,'consumed']\n",
    "    data.loc[x,'familiarity_zscore'] = (fam - p_mean_fam)/p_sd_fam\n",
    "    data.loc[x,'consumed_zscore'] = (cons - p_mean_cons)/p_sd_cons"
   ]
  },
  {
   "cell_type": "markdown",
   "metadata": {},
   "source": [
    "Then move the BDM bid and familiarity/consumption data, including their respective z-scores, into the binary choice rows:"
   ]
  },
  {
   "cell_type": "code",
   "execution_count": 9,
   "metadata": {
    "collapsed": false
   },
   "outputs": [
    {
     "name": "stderr",
     "output_type": "stream",
     "text": [
      "//anaconda/lib/python2.7/site-packages/pandas/core/frame.py:1997: UserWarning: Boolean Series key will be reindexed to match DataFrame index.\n",
      "  \"DataFrame index.\", UserWarning)\n"
     ]
    }
   ],
   "source": [
    "for x in range(1,len(data)+1): # For all rows...\n",
    "    if not pd.isnull(data.loc[x,'chosen']): # ... if there is a value in 'chosen' indicating that row is from the choice task\n",
    "        bidmatch_all = data[data.loc[x,'chosen']==data.bdm_img] # find all BDM rows in the dataset that match that chosen item\n",
    "        bidmatch_participant = bidmatch_all[data['participant']==data.loc[x,'participant']] # find the subset of bids from the same participant\n",
    "        bidmatch_participant_notnull = bidmatch_participant[bidmatch_participant['bdm_bid1_response'].notnull()] # from those data, pick the BDM task\n",
    "        bidmatch_participant_notnull_index = bidmatch_participant_notnull['bdm_bid1_response'].idxmax() # find the maximum to define as a single value index\n",
    "        data.loc[x,'chosen_bid'] = bidmatch_participant_notnull.loc[bidmatch_participant_notnull_index,'bdm_bid1_response'] # define 'chosen_bid' on the choice row as the bid for that item\n",
    "        data.loc[x,'chosen_bid_zscore'] = bidmatch_participant_notnull.loc[bidmatch_participant_notnull_index,'bdm_bid_response_zscore'] # define 'chosen_bid_zscore' on the choice row as the participant's z-score for the bid for that item from the same (first/last) part of the experiment\n",
    "        data.loc[x,'chosen_familiarity'] = bidmatch_participant_notnull.loc[bidmatch_participant_notnull_index,'familiarity']\n",
    "        data.loc[x,'chosen_familiarity_zscore'] = bidmatch_participant_notnull.loc[bidmatch_participant_notnull_index,'familiarity_zscore']\n",
    "        data.loc[x,'chosen_consumed'] = bidmatch_participant_notnull.loc[bidmatch_participant_notnull_index,'consumed']\n",
    "        data.loc[x,'chosen_consumed_zscore'] = bidmatch_participant_notnull.loc[bidmatch_participant_notnull_index,'consumed_zscore']\n",
    "\n",
    "# Do the same for the unchosen items in each choice\n",
    "for x in range(1,len(data)+1):\n",
    "    if not pd.isnull(data.loc[x,'unchosen']):\n",
    "        bidmatch_all = data[data.loc[x,'unchosen']==data.bdm_img]\n",
    "        bidmatch_participant = bidmatch_all[data['participant']==data.loc[x,'participant']]\n",
    "        bidmatch_participant_notnull = bidmatch_participant[bidmatch_participant['bdm_bid1_response'].notnull()]\n",
    "        bidmatch_participant_notnull_index = bidmatch_participant_notnull['bdm_bid1_response'].idxmax()\n",
    "        data.loc[x,'unchosen_bid'] = bidmatch_participant_notnull.loc[bidmatch_participant_notnull_index,'bdm_bid1_response']\n",
    "        data.loc[x,'unchosen_bid_zscore'] = bidmatch_participant_notnull.loc[bidmatch_participant_notnull_index,'bdm_bid_response_zscore']\n",
    "        data.loc[x,'unchosen_familiarity'] = bidmatch_participant_notnull.loc[bidmatch_participant_notnull_index,'familiarity']\n",
    "        data.loc[x,'unchosen_familiarity_zscore'] = bidmatch_participant_notnull.loc[bidmatch_participant_notnull_index,'familiarity_zscore']\n",
    "        data.loc[x,'unchosen_consumed'] = bidmatch_participant_notnull.loc[bidmatch_participant_notnull_index,'consumed']\n",
    "        data.loc[x,'unchosen_consumed_zscore'] = bidmatch_participant_notnull.loc[bidmatch_participant_notnull_index,'consumed_zscore']\n",
    "        "
   ]
  },
  {
   "cell_type": "markdown",
   "metadata": {},
   "source": [
    "Generate a variable ('choice_dv') for the difference in bids between the chosen and unchosen items in each pair, and a variable ('choice_dv_zscore') for the difference between the bids' z-scores:"
   ]
  },
  {
   "cell_type": "code",
   "execution_count": 10,
   "metadata": {
    "collapsed": true
   },
   "outputs": [],
   "source": [
    "data['choice_dv'] = data['chosen_bid'] - data['unchosen_bid'] # Difference between the bid amounts\n",
    "data['choice_dv_zscore'] = data['chosen_bid_zscore'] - data['unchosen_bid_zscore'] # Difference between the z-scores of the items' bids"
   ]
  },
  {
   "cell_type": "markdown",
   "metadata": {},
   "source": [
    "Generate similar variables, but for the difference between the left and right choices:"
   ]
  },
  {
   "cell_type": "code",
   "execution_count": 11,
   "metadata": {
    "collapsed": false
   },
   "outputs": [],
   "source": [
    "data.loc[data['chosen']==data['choice_left'],'choice_dv_left_minus_right'] = data[data['chosen']==data['choice_left']]['choice_dv']\n",
    "data.loc[data['chosen']==data['choice_right'],'choice_dv_left_minus_right'] = -data[data['chosen']==data['choice_right']]['choice_dv']\n",
    "\n",
    "data.loc[data['chosen']==data['choice_left'],'choice_dv_zscore_left_minus_right'] = data[data['chosen']==data['choice_left']]['choice_dv_zscore']\n",
    "data.loc[data['chosen']==data['choice_right'],'choice_dv_zscore_left_minus_right'] = -data[data['chosen']==data['choice_right']]['choice_dv_zscore']"
   ]
  },
  {
   "cell_type": "markdown",
   "metadata": {},
   "source": [
    "Generate a dummy variable indicating whether the participant chose the item on the left:"
   ]
  },
  {
   "cell_type": "code",
   "execution_count": 12,
   "metadata": {
    "collapsed": true
   },
   "outputs": [],
   "source": [
    "data.loc[data['chosen']==data['choice_left'],'left_chosen'] = 1\n",
    "data.loc[data['chosen']==data['choice_right'],'left_chosen'] = 0"
   ]
  },
  {
   "cell_type": "markdown",
   "metadata": {},
   "source": [
    "Then calculate the z-scores for the choice confidence ratings, by participant, by task (first or second choice task)."
   ]
  },
  {
   "cell_type": "code",
   "execution_count": 13,
   "metadata": {
    "collapsed": false
   },
   "outputs": [],
   "source": [
    "conf_means = data.groupby(['participant']).confidence_rating1_response.mean() # Calculate each participant's mean confidence rating (from 1 to 6) during the choice task\n",
    "conf_sds = data.groupby(['participant']).confidence_rating1_response.std(ddof=0) # Calculate each participant's standard deviation of their confidence rating in the choice task\n",
    "\n",
    "for x in range(1,len(data)+1): # For all rows...\n",
    "    p = data.loc[x,'participant'] # Variable for the participant\n",
    "    p_mean = conf_means[p] # Variable for that participant's mean confidence in the choice task\n",
    "    p_sd = conf_sds[p] # That participant's confidence SD for the choice task\n",
    "    conf = data.loc[x,'confidence_rating1_response'] # If that row is from the choice task, variable for that confidence rating\n",
    "    data.loc[x,'confidence_rating_response_zscore'] = (conf - p_mean)/p_sd # Add a new variable to the dataframe with that confidence rating's z-score at the participant level"
   ]
  },
  {
   "cell_type": "markdown",
   "metadata": {},
   "source": [
    "Create a variable for the z-scores, by participant and by choice task, for the response times in each choice task."
   ]
  },
  {
   "cell_type": "code",
   "execution_count": 14,
   "metadata": {
    "collapsed": true
   },
   "outputs": [],
   "source": [
    "choice_rt_means = data.groupby(['participant']).key_resp_choice_rt.mean()\n",
    "choice_rt_sds = data.groupby(['participant']).key_resp_choice_rt.std(ddof=0)\n",
    "\n",
    "for x in range(1,len(data)+1):\n",
    "    p = data.loc[x,'participant']\n",
    "    p_mean = choice_rt_means[p]\n",
    "    p_sd = choice_rt_sds[p]\n",
    "    rt = data.loc[x,'key_resp_choice_rt']\n",
    "    data.loc[x,'key_resp_choice_rt_zscore'] = (rt - p_mean)/p_sd"
   ]
  },
  {
   "cell_type": "markdown",
   "metadata": {},
   "source": [
    "####Learning task\n",
    "Now we create a variable \"pair_rep\" to indicate how many times each image pair has been presented so far in the experiment."
   ]
  },
  {
   "cell_type": "code",
   "execution_count": 15,
   "metadata": {
    "collapsed": true
   },
   "outputs": [],
   "source": [
    "data_infer = data[data['img_correct'].notnull()] # Subset of \"data\" where 'img_correct' has a value\n",
    "data_infer = data_infer[data_infer['practice_loop_thisRepN']!=0] # Subset of \"data_infer\" that does NOT include practice trials\n",
    "data_infer['pair_rep'] = range(1,31) * (len(data_infer)/30) # Note: Change range and denominator if number of item presentations differs from 30\n",
    "data['pair_rep'] = data_infer['pair_rep'] # Populate main data frame with this new variable"
   ]
  },
  {
   "cell_type": "markdown",
   "metadata": {},
   "source": [
    "Next, we generate a variable \"response_correct\" to indicate whether the subject responded correctly on each given trial."
   ]
  },
  {
   "cell_type": "code",
   "execution_count": 16,
   "metadata": {
    "collapsed": true
   },
   "outputs": [],
   "source": [
    "# Create series variables from the sorted dataframe for easy handling in the loop below\n",
    "arr_img_correct = data['img_correct']\n",
    "arr_img_left = data['img_left']\n",
    "arr_img_right = data['img_right']\n",
    "arr_infer_resp = data['infer_resp_keys']\n",
    "\n",
    "# Generate a variable indicating whether the response was correct on each given trial\n",
    "for x in range(1,len(data)+1): \n",
    "    if arr_img_correct[x]==arr_img_left[x] and arr_infer_resp[x]=='left':\n",
    "        data.at[x,'response_correct'] = 1\n",
    "    elif arr_img_correct[x]==arr_img_left[x] and arr_infer_resp[x]=='right':\n",
    "        data.at[x,'response_correct'] = 0\n",
    "    elif arr_img_correct[x]==arr_img_right[x] and arr_infer_resp[x]=='right':\n",
    "        data.at[x,'response_correct'] = 1\n",
    "    elif arr_img_correct[x]==arr_img_right[x] and arr_infer_resp[x]=='left':\n",
    "        data.at[x,'response_correct'] = 0"
   ]
  },
  {
   "cell_type": "markdown",
   "metadata": {},
   "source": [
    "Then, create a variable \"feedback_correct\" to indicate whether the box appeared around the correct (=1) or incorrect (=0) item after the response was collected on that trial."
   ]
  },
  {
   "cell_type": "code",
   "execution_count": 17,
   "metadata": {
    "collapsed": true
   },
   "outputs": [],
   "source": [
    "for x in range(1,len(data)+1):\n",
    "    if pd.isnull(data.loc[x,'practice_loop_thisRepN']): # If the row is NOT part of the learning practice block\n",
    "        if data.loc[x,'set_feedback_feedback_img']==data.loc[x,'img_correct']:\n",
    "            data.at[x,'feedback_correct'] = 1\n",
    "        elif data.loc[x,'set_feedback_feedback_img']==data.loc[x,'img_wrong']:\n",
    "            data.at[x,'feedback_correct'] = 0"
   ]
  },
  {
   "cell_type": "markdown",
   "metadata": {},
   "source": [
    "Then, create a variable \"reward\" to indicate whether the outcome yellow box on a particular trial matched the participant's response on that trial. So for example, if the participant chose the correct item, and then the yellow box was displayed around the correct item, that reward would be coded as 1 for that trial. Similarly, if the participant chose the wrong item, but the yellow box then also appeared around the wrong item, the reward would also be coded as 1.\n",
    "\n",
    "If, however, the participant chose a different item from the one the yellow box then displays around (e.g. the participant chose the correct item but the box displays around the wrong item, or vice versa), the reward is coded as 0 for that trial."
   ]
  },
  {
   "cell_type": "code",
   "execution_count": 18,
   "metadata": {
    "collapsed": false
   },
   "outputs": [],
   "source": [
    "for x in range(1,len(data)+1):\n",
    "    if pd.isnull(data.loc[x,'practice_loop_thisRepN']): # If the row is not part of the inference practice block\n",
    "        if data.loc[x,'response_correct']==data.loc[x,'feedback_correct']:\n",
    "            data.at[x,'reward'] = 1\n",
    "        elif data.loc[x,'response_correct']!=data.loc[x,'feedback_correct']:\n",
    "            data.at[x,'reward'] = 0"
   ]
  },
  {
   "cell_type": "markdown",
   "metadata": {},
   "source": [
    "Then calculate the number of correct feedback boxes (where the yellow box appeared around the correct item) seen so far for that pair."
   ]
  },
  {
   "cell_type": "code",
   "execution_count": 19,
   "metadata": {
    "collapsed": true
   },
   "outputs": [],
   "source": [
    "for x in range(1,len(data)+1):\n",
    "    if not pd.isnull(data.loc[x,'img_correct']) and pd.isnull(data.loc[x,'practice_loop_thisTrialN']): # If in the main inference task (not the practice block)\n",
    "        part = data.loc[x,'participant']\n",
    "        itm = data.loc[x,'img_correct']\n",
    "        pair = data.loc[x,'pair_rep']\n",
    "        data_part = data[data['participant']==part]\n",
    "        data_part_itm = data_part[data_part['img_correct']==itm]\n",
    "        feedbck_corr_sum = data_part_itm[data_part_itm['pair_rep']<pair].feedback_correct.sum() # Sum of the correct feedback (yellow boxes around the correct answer) of trials in that item for that participant with lower pair_rep number than the current row\n",
    "        data.loc[x,'feedback_correct_sum'] = feedbck_corr_sum \n",
    "        data.loc[x,'feedback_wrong_sum'] = (pair - 1) - feedbck_corr_sum # Subtract to get the number of wrong feedback up until that point (yellow boxes around the wrong answer)"
   ]
  },
  {
   "cell_type": "markdown",
   "metadata": {},
   "source": [
    "Create a variable for the difference between the number of correct and wrong feedback boxes displayed so far."
   ]
  },
  {
   "cell_type": "code",
   "execution_count": 20,
   "metadata": {
    "collapsed": true
   },
   "outputs": [],
   "source": [
    "data['feedback_correct_sum_diff'] = data['feedback_correct_sum'] - data['feedback_wrong_sum']"
   ]
  },
  {
   "cell_type": "markdown",
   "metadata": {},
   "source": [
    "Calculate the trial number, and the number of trials (presentation of other item pairs) between the current and last presentation of that item pair (interference)"
   ]
  },
  {
   "cell_type": "code",
   "execution_count": 21,
   "metadata": {
    "collapsed": true
   },
   "outputs": [],
   "source": [
    "# Calculate the trial number, for all three blocks combined\n",
    "for x in range(1,len(data)+1):\n",
    "    if data.loc[x,'block_loop_thisN']==0:\n",
    "        data.loc[x,'learning_trial'] = data.loc[x,'trial_loop_thisN']\n",
    "    elif data.loc[x,'block_loop_thisN']==1:\n",
    "        data.loc[x,'learning_trial'] = data.loc[x,'trial_loop_thisN'] + 200\n",
    "    elif data.loc[x,'block_loop_thisN']==2:\n",
    "        data.loc[x,'learning_trial'] = data.loc[x,'trial_loop_thisN'] + 400\n",
    "\n",
    "for x in range(1,len(data)+1):\n",
    "    if data.loc[x,'pair_rep'] > 1:\n",
    "        data.loc[x,'interference'] = data.loc[x,'learning_trial'] - data.loc[x-1,'learning_trial'] - 1"
   ]
  },
  {
   "cell_type": "markdown",
   "metadata": {},
   "source": [
    "Calculate the z-scores, by participant, for their reaction times in the inference task."
   ]
  },
  {
   "cell_type": "code",
   "execution_count": 22,
   "metadata": {
    "collapsed": true
   },
   "outputs": [],
   "source": [
    "rt_means = data.groupby(['participant']).infer_resp_rt.mean()\n",
    "rt_sds = data.groupby(['participant']).infer_resp_rt.std(ddof=0)\n",
    "\n",
    "for x in range(1,len(data)+1):\n",
    "    p = data.loc[x,'participant']\n",
    "    p_mean = rt_means[p]\n",
    "    p_sd = rt_sds[p]\n",
    "    rt = data.loc[x,'infer_resp_rt']\n",
    "    data.loc[x,'infer_resp_rt_zscore'] = (rt - p_mean)/p_sd"
   ]
  },
  {
   "cell_type": "markdown",
   "metadata": {},
   "source": [
    "Next, move the participant's item bids into new variables aligned with the inference task. These will be signed to indicate congruency with the choice being inferred; the participant's bid for the incorrect item is subtracted from the bid for the correct item to create a correct_bid_dv variable. Strongly negative values for this variable, therefore, indicate a strong preference in the opposite direction as the choice being inferred. Strongly positive values indicate strong congruency with the choice being inferred."
   ]
  },
  {
   "cell_type": "code",
   "execution_count": 23,
   "metadata": {
    "collapsed": true
   },
   "outputs": [],
   "source": [
    "for x in range(1,len(data)+1): # For all rows...\n",
    "    if not pd.isnull(data.loc[x,'img_correct']) and pd.isnull(data.loc[x,'practice_loop_thisTrialN']): # ... if there is a value in 'img_correct' indicating that row is from the inference task, and it is not in the practice block\n",
    "        bid_inf_all = data[data.loc[x,'img_correct']==data.bdm_img] # find all BDM rows in the dataset that match that correct item\n",
    "        bid_inf_participant = bid_inf_all[data['participant']==data.loc[x,'participant']] # find the subset of bids from the same participant\n",
    "        bid_inf_participant_notnull = bid_inf_participant[bid_inf_participant['bdm_bid1_response'].notnull()] # from those data, pick the BDM task\n",
    "        bid_inf_participant_notnull_index = bid_inf_participant_notnull['bdm_bid1_response'].idxmax() # find the maximum to define as a single value index\n",
    "        data.loc[x,'correct_bid'] = bid_inf_participant_notnull.loc[bid_inf_participant_notnull_index,'bdm_bid1_response'] # define 'correct_bid' on the inference row as the bid for that item\n",
    "        data.loc[x,'correct_bid_zscore'] = bid_inf_participant_notnull.loc[bid_inf_participant_notnull_index,'bdm_bid_response_zscore'] # and add a variable for that participant's zscore of the bid for the correct item\n",
    "        data.loc[x,'correct_familiarity'] = bid_inf_participant_notnull.loc[bid_inf_participant_notnull_index,'familiarity'] # and add a variable for that participant's familiarity with that item\n",
    "        data.loc[x,'correct_familiarity_zscore'] = bid_inf_participant_notnull.loc[bid_inf_participant_notnull_index,'familiarity_zscore'] # and add a variable for that participant's familiarity z-score\n",
    "        data.loc[x,'correct_consumed'] = bid_inf_participant_notnull.loc[bid_inf_participant_notnull_index,'consumed'] # and add a variable for that participant's past consumption of that item\n",
    "        data.loc[x,'correct_consumed_zscore'] = bid_inf_participant_notnull.loc[bid_inf_participant_notnull_index,'consumed_zscore'] # and add a variable for that participant's item consumption zscore\n",
    "\n",
    "# Do the same for the incorrect items in each inference trial\n",
    "for x in range(1,len(data)+1): # For all rows...\n",
    "    if not pd.isnull(data.loc[x,'img_wrong']) and pd.isnull(data.loc[x,'practice_loop_thisTrialN']):\n",
    "        bid_infwr_all = data[data.loc[x,'img_wrong']==data.bdm_img] \n",
    "        bid_infwr_participant = bid_infwr_all[data['participant']==data.loc[x,'participant']] \n",
    "        bid_infwr_participant_notnull = bid_infwr_participant[bid_infwr_participant['bdm_bid1_response'].notnull()] \n",
    "        bid_infwr_participant_notnull_index = bid_infwr_participant_notnull['bdm_bid1_response'].idxmax() \n",
    "        data.loc[x,'wrong_bid'] = bid_infwr_participant_notnull.loc[bid_infwr_participant_notnull_index,'bdm_bid1_response']\n",
    "        data.loc[x,'wrong_bid_zscore'] = bid_infwr_participant_notnull.loc[bid_infwr_participant_notnull_index,'bdm_bid_response_zscore']\n",
    "        data.loc[x,'wrong_familiarity'] = bid_infwr_participant_notnull.loc[bid_infwr_participant_notnull_index,'familiarity'] # and add a variable for that participant's familiarity with that item\n",
    "        data.loc[x,'wrong_familiarity_zscore'] = bid_infwr_participant_notnull.loc[bid_infwr_participant_notnull_index,'familiarity_zscore'] # and add a variable for that participant's familiarity z-score\n",
    "        data.loc[x,'wrong_consumed'] = bid_infwr_participant_notnull.loc[bid_infwr_participant_notnull_index,'consumed'] # and add a variable for that participant's past consumption of that item\n",
    "        data.loc[x,'wrong_consumed_zscore'] = bid_infwr_participant_notnull.loc[bid_infwr_participant_notnull_index,'consumed_zscore'] # and add a variable for that participant's item consumption zscore\n",
    "\n",
    "# Define congruency variables for each BDM task:\n",
    "data['inf_bid_dv']=data['correct_bid'] - data['wrong_bid'] # Difference in absolute bid amounts from the bid task\n",
    "data['inf_bid_dv_zscore']=data['correct_bid_zscore'] - data['wrong_bid_zscore'] # Difference in bid amount z-scores from the bid task\n",
    "\n",
    "# Define familiarity and consumption rating z-score differences for each item\n",
    "data['familiarity_dv_zscore']=data['correct_familiarity_zscore'] - data['wrong_familiarity_zscore']\n",
    "data['consumed_dv_zscore']=data['correct_consumed_zscore'] - data['wrong_consumed_zscore']"
   ]
  },
  {
   "cell_type": "markdown",
   "metadata": {},
   "source": [
    "Was the correct answer in the learning task pair chosen by the participant in the choice task? Create variables that indicate the number of times it was chosen (each pair was presented in the choice task twice; 0=never chosen; 1=chosen once but not chosen the second time; 2=chosen twice)."
   ]
  },
  {
   "cell_type": "code",
   "execution_count": 24,
   "metadata": {
    "collapsed": false
   },
   "outputs": [],
   "source": [
    "chosen_data = pd.DataFrame(data.groupby('participant').chosen.value_counts()) # The number of times each item was chosen in the choice task, grouped by participant\n",
    "chosen_data.columns = ['number'] # Give the column with this number a name\n",
    "chosen_data.index.names = ['participant','item'] # Name the hierarchical index of this dataframe\n",
    "for x in range(1,len(data)+1): # For all rows...\n",
    "    if not pd.isnull(data.loc[x,'img_correct']) and pd.isnull(data.loc[x,'practice_loop_thisTrialN']): # If the row is part of the inference task, and not part of the practice block...\n",
    "        part = data.loc[x,'participant'] # The participant\n",
    "        itm = data.loc[x,'img_correct'] # The chosen item (correct answer) they're trying to learn\n",
    "        if not chosen_data.xs((part,itm), level=('participant','item')).values: # If the correct answer was not chosen by the participant at least once during the first choice task\n",
    "            data.loc[x,'choice_correct_congruence'] = 0 # ...the choice congruence score is 0\n",
    "        else: # Otherwise, it's the number of times that item was chosen in the choice task (either 1 or 2)\n",
    "            data.loc[x,'choice_correct_congruence'] = chosen_data.number.xs((part,itm), level=('participant','item')).values"
   ]
  },
  {
   "cell_type": "markdown",
   "metadata": {},
   "source": [
    "Move the choice confidence ratings, their within-participant (grouped by first and second choice task) z-scores, and response times and their z-scores, into the inference task rows. Since each participant indicated their choice in each item pair twice (flipping side of the screen once), there are 4 variables stored (each of these confidence ratings and their z-scores)."
   ]
  },
  {
   "cell_type": "code",
   "execution_count": 25,
   "metadata": {
    "collapsed": true
   },
   "outputs": [],
   "source": [
    "for x in range(1,len(data)+1): # For all rows...\n",
    "    if not pd.isnull(data.loc[x,'img_correct']) and pd.isnull(data.loc[x,'practice_loop_thisTrialN']): # ... if there is a value in 'img_correct' indicating that row is from the inference task, and it is not in the practice block\n",
    "    # CONFIDENCE \n",
    "    # Get the confidence ratings from the choice task, from the trials where the correct item appears on the LEFT   \n",
    "        conf_left_inf_all = data[data.loc[x,'img_correct']==data.choice_left] # find all choice rows in the dataset that match that correct item, where the correct item was shown on the LEFT\n",
    "        conf_left_inf_participant = conf_left_inf_all[data['participant']==data.loc[x,'participant']] # find the subset of confidence ratings from the same participant\n",
    "        conf_left_inf_participant_notnull = conf_left_inf_participant[conf_left_inf_participant['confidence_rating1_response'].notnull()] # from those data, pick the choice task\n",
    "        conf_left_inf_participant_notnull_index = conf_left_inf_participant_notnull['confidence_rating1_response'].idxmax() # find the maximum to define as a single value index\n",
    "        data.loc[x,'conf_correct_on_left'] = conf_left_inf_participant_notnull.loc[conf_left_inf_participant_notnull_index,'confidence_rating1_response'] # define 'conf_correct_on_left' on the inference row as the confidence rating for that item where the correct item was displayed on the LEFT\n",
    "        data.loc[x,'conf_correct_on_left_zscore'] = conf_left_inf_participant_notnull.loc[conf_left_inf_participant_notnull_index,'confidence_rating_response_zscore'] # and add a variable for that participant's zscore of the confidence rating for the correct item from the choice task\n",
    "    # Get the confidence ratings from the choice task, where the correct item appears on the RIGHT\n",
    "        conf_right_inf_all = data[data.loc[x,'img_correct']==data.choice_right] # find all choice rows in the dataset that match that correct item, where the correct item was shown on the RIGHT\n",
    "        conf_right_inf_participant = conf_right_inf_all[data['participant']==data.loc[x,'participant']] # find the subset of confidence ratings from the same participant\n",
    "        conf_right_inf_participant_notnull = conf_right_inf_participant[conf_right_inf_participant['confidence_rating1_response'].notnull()] # from those data, pick the choice task\n",
    "        conf_right_inf_participant_notnull_index = conf_right_inf_participant_notnull['confidence_rating1_response'].idxmax() # find the maximum to define as a single value index\n",
    "        data.loc[x,'conf_correct_on_right'] = conf_right_inf_participant_notnull.loc[conf_right_inf_participant_notnull_index,'confidence_rating1_response'] # define 'conf1_correct_on_right' on the inference row as the confidence rating for that item where the correct item was displayed on the RIGHT\n",
    "        data.loc[x,'conf_correct_on_right_zscore'] = conf_right_inf_participant_notnull.loc[conf_right_inf_participant_notnull_index,'confidence_rating_response_zscore'] # and add a variable for that participant's zscore of the confidence rating for the correct item from the choice task\n",
    "   \n",
    "\n",
    "    # CHOICE RESPONSE TIMES\n",
    "    # Get the choice response tims from the choice task, from the trials where the correct item appears on the LEFT   \n",
    "        chc_left_inf_all = data[data.loc[x,'img_correct']==data.choice_left] \n",
    "        chc_left_inf_participant = chc_left_inf_all[data['participant']==data.loc[x,'participant']]\n",
    "        chc_left_inf_participant_notnull = chc_left_inf_participant[chc_left_inf_participant['key_resp_choice_rt'].notnull()] \n",
    "        chc_left_inf_participant_notnull_index = chc_left_inf_participant_notnull['key_resp_choice_rt'].idxmax()\n",
    "        data.loc[x,'chc_correct_on_left_rt'] = chc_left_inf_participant_notnull.loc[chc_left_inf_participant_notnull_index,'key_resp_choice_rt'] \n",
    "        data.loc[x,'chc_correct_on_left_rt_zscore'] = chc_left_inf_participant_notnull.loc[chc_left_inf_participant_notnull_index,'key_resp_choice_rt_zscore'] \n",
    "    # Get the choice response tims from the choice task, from the trials where the correct item appears on the RIGHT   \n",
    "        chc_right_inf_all = data[data.loc[x,'img_correct']==data.choice_right] \n",
    "        chc_right_inf_participant = chc_right_inf_all[data['participant']==data.loc[x,'participant']]\n",
    "        chc_right_inf_participant_notnull = chc_right_inf_participant[chc_right_inf_participant['key_resp_choice_rt'].notnull()] \n",
    "        chc_right_inf_participant_notnull_index = chc_right_inf_participant_notnull['key_resp_choice_rt'].idxmax()\n",
    "        data.loc[x,'chc_correct_on_right_rt'] = chc_right_inf_participant_notnull.loc[chc_right_inf_participant_notnull_index,'key_resp_choice_rt'] \n",
    "        data.loc[x,'chc_correct_on_right_rt_zscore'] = chc_right_inf_participant_notnull.loc[chc_right_inf_participant_notnull_index,'key_resp_choice_rt_zscore'] "
   ]
  },
  {
   "cell_type": "markdown",
   "metadata": {},
   "source": [
    "Calculate the mean confidence and response time z-scores of the two presentations in the choice task:"
   ]
  },
  {
   "cell_type": "code",
   "execution_count": 26,
   "metadata": {
    "collapsed": true
   },
   "outputs": [],
   "source": [
    "data['conf_mean_zscore'] = (data['conf_correct_on_left_zscore'] + data['conf_correct_on_right_zscore'])/2\n",
    "data['chc_rt_mean_zscore'] = (data['chc_correct_on_left_rt_zscore'] + data['chc_correct_on_right_rt_zscore'])/2"
   ]
  },
  {
   "cell_type": "markdown",
   "metadata": {},
   "source": [
    "Create a variable \"choice_presentation\" to indicate, for the choice trials, whether it is the first (1) or second (2) presentation of that pair."
   ]
  },
  {
   "cell_type": "code",
   "execution_count": 27,
   "metadata": {
    "collapsed": false
   },
   "outputs": [],
   "source": [
    "data['pairID'] = np.nan # Set up a temporary variable to identify each unique item pair in the choice task\n",
    "\n",
    "for x in data['participant'].unique(): # For each participant...\n",
    "    \n",
    "    right_choices=[] # Variable to keep track of choice stimuli displayed on the right side of the screen\n",
    "    pair_counter = 1 # Counter to keep track of how many time that item pair has been displayed so far in the choice task\n",
    "\n",
    "    for trial in data.loc[((data['choice_left'].notnull()) & (data['participant']==x)), 'binary_thisN']: # Within the choice task for that participant, for each trial...\n",
    "        if data.loc[((data['binary_thisN']==trial) & (data['participant']==x)), 'choice_left'].any() in right_choices: # If the left choice has already been displayed on the right,\n",
    "            data.loc[((data['binary_thisN']==trial) & (data['participant']==x)), 'pairID'] = data.loc[((data['choice_right']==data.loc[((data['binary_thisN']==trial) & (data['participant']==x)), 'choice_left'].get_values()[0]) & (data['participant']==x)), 'pairID'].get_values()[0] # then assign it the same pairID\n",
    "            data.loc[((data['binary_thisN']==trial) & (data['participant']==x)), 'choice_presentation'] = 2 # And set the 'choice_presentation' number to 2\n",
    "        else:\n",
    "            data.loc[((data['binary_thisN']==trial) & (data['participant']==x)), 'pairID'] = pair_counter # Otherwise, assign the next available pairID\n",
    "            data.loc[((data['binary_thisN']==trial) & (data['participant']==x)), 'choice_presentation'] = 1 # Set the choice presentation number to 1\n",
    "            pair_counter += 1 # Increase the pairID counter\n",
    "            right_choices.append(data.loc[((data['binary_thisN']==trial) & (data['participant']==x)), 'choice_right'].get_values()[0]) # And add the choice on the right to our list\n",
    "\n",
    "#data = data.drop('pairID',1) # When finished, drop the pair ID column from the data"
   ]
  },
  {
   "cell_type": "markdown",
   "metadata": {},
   "source": [
    "Create two more dummy variables indicating whether the participant chose the left choice on the first presentation of that pair, and the right choice on the second presentation of that pair."
   ]
  },
  {
   "cell_type": "code",
   "execution_count": 28,
   "metadata": {
    "collapsed": false
   },
   "outputs": [],
   "source": [
    "data.loc[((data['left_chosen']==1) & (data['choice_presentation']==1)),'left_chosen_firstpres'] = 1\n",
    "data.loc[((data['left_chosen']==0) & (data['choice_presentation']==1)),'left_chosen_firstpres'] = 0\n",
    "data.loc[((data['left_chosen']==1) & (data['choice_presentation']==2)),'right_chosen_secondpres'] = 0\n",
    "data.loc[((data['left_chosen']==0) & (data['choice_presentation']==2)),'right_chosen_secondpres'] = 1"
   ]
  },
  {
   "cell_type": "code",
   "execution_count": 29,
   "metadata": {
    "collapsed": false
   },
   "outputs": [],
   "source": [
    "for x in data['participant'].unique(): # For each participant...\n",
    "    for y in data.loc[((data['choice_left'].notnull()) & (data['participant']==x)), 'pairID']:\n",
    "        data.loc[((data['pairID']==y) & (data['participant']==x) & (data['choice_presentation']==2)), 'left_chosen_firstpres'] = data.loc[((data['pairID']==y) & (data['participant']==x) & (data['choice_presentation']==1)), 'left_chosen_firstpres'].get_values()[0]\n",
    "        data.loc[((data['pairID']==y) & (data['participant']==x) & (data['choice_presentation']==1)), 'right_chosen_secondpres'] = data.loc[((data['pairID']==y) & (data['participant']==x) & (data['choice_presentation']==2)), 'right_chosen_secondpres'].get_values()[0]"
   ]
  },
  {
   "cell_type": "markdown",
   "metadata": {},
   "source": [
    "Create a dummy variable to indicate whether the correct image in the learning task was displayed on the left side of the screen."
   ]
  },
  {
   "cell_type": "code",
   "execution_count": 30,
   "metadata": {
    "collapsed": true
   },
   "outputs": [],
   "source": [
    "data.loc[(data['img_correct']==data['img_left']), 'correct_on_left'] = 1\n",
    "data.loc[(data['img_correct']==data['img_right']), 'correct_on_left'] = 0"
   ]
  },
  {
   "cell_type": "markdown",
   "metadata": {},
   "source": [
    "Finally, create a dummy variable to indicate whether the participant responded \"left\"."
   ]
  },
  {
   "cell_type": "code",
   "execution_count": 31,
   "metadata": {
    "collapsed": true
   },
   "outputs": [],
   "source": [
    "data.loc[data['infer_resp_keys']=='left', 'infer_response_left'] = 1\n",
    "data.loc[data['infer_resp_keys']=='right', 'infer_response_left'] = 0"
   ]
  },
  {
   "cell_type": "markdown",
   "metadata": {},
   "source": [
    "Save the dataframe as CSV and PKL files"
   ]
  },
  {
   "cell_type": "code",
   "execution_count": 32,
   "metadata": {
    "collapsed": true
   },
   "outputs": [],
   "source": [
    "data.to_csv(path_or_buf=r'../data/social/data_processed_social.csv')\n",
    "data.to_pickle(r'../data/social/data_processed_social.pkl')"
   ]
  },
  {
   "cell_type": "markdown",
   "metadata": {},
   "source": [
    "##A priori participant exclusion"
   ]
  },
  {
   "cell_type": "markdown",
   "metadata": {},
   "source": [
    "We set the following a priori exclusion criteria for participants (see 'analysis_code/exclusion_criteria.docx'):\n",
    "\n",
    "Participants’ data will be excluded if:\n",
    "\n",
    "1)\tThey indicate at any point before, during, or after testing that they do not meet the following eligibility criteria:\n",
    "a.\tAre at least 18 years old,\n",
    "b.\tAre proficient in English, and\n",
    "c.\tDo not suffer from any psychiatric or neurological disorder.\n",
    "\n",
    "2)\tThey end their participation before the conclusion of the study, including by asking to leave before the post-experiment wait period has ended, or by consuming food or non-water drink that was not purchased during the auction.\n",
    "\n",
    "3)\tThey indicate that they did not comply with the requirement to drink only water and refrain from eating for 3 hours before attending the session.\n",
    "\n",
    "4)\tTheir responses in the choice task are inconsistent to the extent that a response on the first presentation of an item pair does not significantly and positively predict their response during the second presentation of that item pair. This will be tested using a logistic regression analysis predicting the response during the second presentation of the item pairs, using the response during the first presentation of that pair as the independent variable. The regression coefficient weighting this variable must be greater than zero with a probability of more than 95%.\n",
    "\n",
    "5)\tThey use a very narrow range of the confidence scale. Specifically, if one standard deviation of a subject’s scale use represents less than 16% of the total range of the scale. (See De Martino, Fleming, Garrett, and Dolan, 2012, Nature Neuroscience.)\n",
    "\n",
    "6)\tIf their bids or confidence ratings can be significantly predicted by the randomly jittered starting point of the scale. This will be determined by two linear regression analyses predicting the confidence and bid responses separately, using the starting point as the independent variable.  A participant will be excluded if the coefficient weighting the starting point is significantly different from zero with a probability of more than 95% in either of these analyses. \n",
    "\n",
    "7)\tIf their bids do not predict their choices. Specifically, participants will be excluded if the inverse temperature parameter for a participant is five or more times larger than the mean for the entire group. (See De Martino, Fleming, Garrett, and Dolan, 2012, Nature Neuroscience.)\n",
    "\n",
    "8)\tIf their mean performance on the learning task is not significantly above chance. \n"
   ]
  },
  {
   "cell_type": "markdown",
   "metadata": {},
   "source": [
    "###Criteria 1-3: Failure to abide by study requirements\n",
    "No participants met any of these criteria. (See participant log at 'recruitment/participant_log.xlsx')"
   ]
  },
  {
   "cell_type": "markdown",
   "metadata": {},
   "source": [
    "###Criterion 4: Choice consistency"
   ]
  },
  {
   "cell_type": "code",
   "execution_count": 33,
   "metadata": {
    "collapsed": false
   },
   "outputs": [],
   "source": [
    "def check_choice_consistency(subj):\n",
    "    data_subset = data[data['participant']==subj]\n",
    "    data_subset = data_subset[data_subset['chosen'].notnull()]\n",
    "    data_subset['intercept'] = 1.0\n",
    "    logit = sm.Logit(data_subset['right_chosen_secondpres'], data_subset[['left_chosen_firstpres','intercept']])\n",
    "    result = logit.fit()\n",
    "    print subj, result.summary()\n",
    "\n",
    "def check_choice_consistency_linear(subj):\n",
    "    data_subset = data[data['participant']==subj]\n",
    "    data_subset = data_subset[data_subset['chosen'].notnull()]\n",
    "    data_subset['intercept'] = 1.0\n",
    "    x = np.array(data_subset['left_chosen_firstpres'])\n",
    "    y = np.array(data_subset['right_chosen_secondpres'])\n",
    "    slope, intercept, r_value, p_value, slope_std_error = ss.linregress(x, y)\n",
    "    return subj, slope, p_value\n",
    "\n",
    "for x in data['participant'].unique():\n",
    "    if check_choice_consistency_linear(x)[1]<0 or check_choice_consistency_linear(x)[2]>0.05:\n",
    "        print 'Exclude ',x"
   ]
  },
  {
   "cell_type": "markdown",
   "metadata": {},
   "source": [
    "For all participants, the first choice significantly predicts the second choice with greater than 95% probability. Because many participants showed perfect consistency, logistic regressions were impossible to estimate, so linear regressions were substituted. \n",
    "\n",
    "No participants would be excluded under this criterion."
   ]
  },
  {
   "cell_type": "code",
   "execution_count": 34,
   "metadata": {
    "collapsed": false
   },
   "outputs": [
    {
     "name": "stdout",
     "output_type": "stream",
     "text": [
      "Number of inconsistent choices for participant  E1 0\n",
      "Number of inconsistent choices for participant  E10 0\n",
      "Number of inconsistent choices for participant  E11 0\n",
      "Number of inconsistent choices for participant  E12 0\n",
      "Number of inconsistent choices for participant  E13 2\n",
      "Number of inconsistent choices for participant  E14 0\n",
      "Number of inconsistent choices for participant  E15 0\n",
      "Number of inconsistent choices for participant  E16 4\n",
      "Number of inconsistent choices for participant  E17 0\n",
      "Number of inconsistent choices for participant  E18 1\n",
      "Number of inconsistent choices for participant  E19 0\n",
      "Number of inconsistent choices for participant  E2 1\n",
      "Number of inconsistent choices for participant  E20 1\n",
      "Number of inconsistent choices for participant  E21 0\n",
      "Number of inconsistent choices for participant  E22 0\n",
      "Number of inconsistent choices for participant  E23 0\n",
      "Number of inconsistent choices for participant  E24 0\n",
      "Number of inconsistent choices for participant  E25 0\n",
      "Number of inconsistent choices for participant  E26 0\n",
      "Number of inconsistent choices for participant  E27 1\n",
      "Number of inconsistent choices for participant  E28 0\n",
      "Number of inconsistent choices for participant  E29 0\n",
      "Number of inconsistent choices for participant  E3 0\n",
      "Number of inconsistent choices for participant  E30 0\n",
      "Number of inconsistent choices for participant  E31 3\n",
      "Number of inconsistent choices for participant  E32 0\n",
      "Number of inconsistent choices for participant  E33 0\n",
      "Number of inconsistent choices for participant  E4 2\n",
      "Number of inconsistent choices for participant  E5 0\n",
      "Number of inconsistent choices for participant  E6 0\n",
      "Number of inconsistent choices for participant  E7 0\n",
      "Number of inconsistent choices for participant  E8 1\n",
      "Number of inconsistent choices for participant  E9 0\n"
     ]
    },
    {
     "data": {
      "text/plain": [
       "41"
      ]
     },
     "execution_count": 34,
     "metadata": {},
     "output_type": "execute_result"
    }
   ],
   "source": [
    "for x in data['participant'].unique():\n",
    "    print 'Number of inconsistent choices for participant ', x, len(data.loc[data['participant']==x, 'chosen'].unique())-21\n",
    "#data.groupby(['participant']).chosen.value_counts()\n",
    "len(data['chosen'].unique())"
   ]
  },
  {
   "cell_type": "markdown",
   "metadata": {},
   "source": [
    "###Criterion 5: Use of confidence scale"
   ]
  },
  {
   "cell_type": "markdown",
   "metadata": {},
   "source": [
    "We now check to see whether each participant used an appropriate range of the scale (pre-determined to be one standard deviation of 16%, or 0.8 scale units, after De Martino, Fleming, Garrett, and Dolan, 2012, Nature Neuroscience)."
   ]
  },
  {
   "cell_type": "code",
   "execution_count": 35,
   "metadata": {
    "collapsed": false,
    "scrolled": true
   },
   "outputs": [
    {
     "data": {
      "text/plain": [
       "participant\n",
       "E1     1.036433\n",
       "E10    1.447444\n",
       "E11    0.793710\n",
       "E12    1.218852\n",
       "E13    0.991350\n",
       "E14    1.002868\n",
       "E15    0.659351\n",
       "E16    1.080483\n",
       "E17    1.260516\n",
       "E18    0.715258\n",
       "E19    0.593922\n",
       "E2     1.110304\n",
       "E20    1.191123\n",
       "E21    1.208139\n",
       "E22    1.460274\n",
       "E23    0.749062\n",
       "E24    1.285085\n",
       "E25    0.553963\n",
       "E26    1.217128\n",
       "E27    1.815625\n",
       "E28    1.214650\n",
       "E29    1.562490\n",
       "E3     1.242676\n",
       "E30    0.882822\n",
       "E31    0.978455\n",
       "E32    1.223599\n",
       "E33    1.092428\n",
       "E4     1.545510\n",
       "E5     1.066243\n",
       "E6     1.451715\n",
       "E7     0.826680\n",
       "E8     1.885444\n",
       "E9     1.339475\n",
       "Name: confidence_rating1_response, dtype: float64"
      ]
     },
     "execution_count": 35,
     "metadata": {},
     "output_type": "execute_result"
    }
   ],
   "source": [
    "data.groupby(['participant']).confidence_rating1_response.std(ddof=0) #< 0.8"
   ]
  },
  {
   "cell_type": "markdown",
   "metadata": {},
   "source": [
    "Based on this criterion, we would exclude participants E11, E15, E18, E19, E23, and E25."
   ]
  },
  {
   "cell_type": "markdown",
   "metadata": {},
   "source": [
    "###Criterion 6: Bids or confidence ratings predicted by jittered starting points"
   ]
  },
  {
   "cell_type": "markdown",
   "metadata": {},
   "source": [
    "Next we run regression analyses to determine whether a participant's bid or confidence responses were significantly predicted by the jittered starting point of the scale marker."
   ]
  },
  {
   "cell_type": "code",
   "execution_count": 36,
   "metadata": {
    "collapsed": false,
    "scrolled": false
   },
   "outputs": [],
   "source": [
    "def check_jitter_effect_bids(subj):\n",
    "    data_subset = data[data['participant']==subj]\n",
    "    data_subset = data_subset[data_subset['bdm_bid1_response'].notnull()]\n",
    "    x = np.array(data_subset['bdm_marker_start'])\n",
    "    y = np.array(data_subset['bdm_bid1_response'])\n",
    "    slope, intercept, r_value, p_value, slope_std_error = ss.linregress(x, y)\n",
    "    #plt.scatter(x, y)\n",
    "    #plt.show()\n",
    "    return subj, p_value, r_value, slope\n",
    "\n",
    "for x in data['participant'].unique():\n",
    "    if check_jitter_effect_bids(x)[1] <0.05:\n",
    "        print check_jitter_effect_bids(x)[0], check_jitter_effect_bids(x)[1]"
   ]
  },
  {
   "cell_type": "markdown",
   "metadata": {},
   "source": [
    "No participant meets this criterion for the bid scale."
   ]
  },
  {
   "cell_type": "code",
   "execution_count": 37,
   "metadata": {
    "collapsed": false
   },
   "outputs": [
    {
     "name": "stdout",
     "output_type": "stream",
     "text": [
      "Participant E18 , p= 0.0044210737297 , r= 0.440744269817 , slope= 0.194255511376\n",
      "Participant E25 , p= 0.00122567551752 , r= 0.493101277099 , slope= 0.243148869476\n",
      "Participant E33 , p= 0.022980736332 , r= -0.358824737619 , slope= 0.128755192328\n",
      "Participant E5 , p= 0.00685621220024 , r= -0.420793513205 , slope= 0.177067180755\n",
      "Participant E6 , p= 0.00258766973022 , r= -0.463604614747 , slope= 0.214929238815\n"
     ]
    }
   ],
   "source": [
    "def check_jitter_effect_confidence(subj):\n",
    "    data_subset = data[data['participant']==subj]\n",
    "    data_subset = data_subset[data_subset['confidence_rating1_response'].notnull()]\n",
    "    x = np.array(data_subset['confidence_marker_start'])\n",
    "    y = np.array(data_subset['confidence_rating1_response'])\n",
    "    slope, intercept, r_value, p_value, slope_std_error = ss.linregress(x, y)\n",
    "    #plt.scatter(x, y)\n",
    "    #plt.show()\n",
    "    return subj, p_value, r_value, slope\n",
    "\n",
    "def check_jitter_effect_confidence_plot(subj):\n",
    "    data_subset = data[data['participant']==subj]\n",
    "    data_subset = data_subset[data_subset['confidence_rating1_response'].notnull()]\n",
    "    x = np.array(data_subset['confidence_marker_start'])\n",
    "    y = np.array(data_subset['confidence_rating1_response'])\n",
    "    slope, intercept, r_value, p_value, slope_std_error = ss.linregress(x, y)\n",
    "    plt.scatter(x, y)\n",
    "    plt.show()\n",
    "\n",
    "for x in data['participant'].unique():\n",
    "    if check_jitter_effect_confidence(x)[1] <0.05:\n",
    "        print 'Participant',check_jitter_effect_confidence(x)[0], ', p=',check_jitter_effect_confidence(x)[1], ', r=',check_jitter_effect_confidence(x)[2], ', slope=',check_jitter_effect_confidence(x)[2]**2\n",
    "\n"
   ]
  },
  {
   "cell_type": "markdown",
   "metadata": {},
   "source": [
    "Participants E5, E6, E18, E25, and E33 would be excluded under this criterion for the confidence scale."
   ]
  },
  {
   "cell_type": "code",
   "execution_count": 38,
   "metadata": {
    "collapsed": false
   },
   "outputs": [
    {
     "data": {
      "image/png": "[encoded data removed]",
      "text/plain": [
       "<matplotlib.figure.Figure at 0x110bfbad0>"
      ]
     },
     "metadata": {},
     "output_type": "display_data"
    }
   ],
   "source": [
    "def check_jitter_effect_confidence_plot_resid(subj):\n",
    "    #Data\n",
    "    data_subset = data[data['participant']==subj]\n",
    "    data_subset = data_subset[data_subset['confidence_rating1_response'].notnull()]\n",
    "    x = np.array(data_subset['confidence_marker_start'])\n",
    "    y = np.array(data_subset['confidence_rating1_response'])\n",
    "\n",
    "    #Model\n",
    "    Fofx = lambda x,a,b: a*x+b\n",
    "    #Best fit parameters\n",
    "    p, cov = curve_fit(Fofx,x,y)\n",
    "\n",
    "    #PLOT\n",
    "    fig1 = plt.figure(1)\n",
    "    #Plot Data-model\n",
    "    frame1=fig1.add_axes((.1,.3,.8,.6))\n",
    "    #xstart, ystart, xend, yend [units are fraction of the image frame, from bottom left corner]\n",
    "    plt.plot(x,y,'.b') #Noisy data\n",
    "    plt.plot(x,Fofx(x,*p),'-r') #Best fit model\n",
    "    frame1.set_xticklabels([]) #Remove x-tic labels for the first frame\n",
    "    plt.grid()\n",
    "\n",
    "    #Residual plot\n",
    "    difference = Fofx(x,*p) - y\n",
    "    frame2=fig1.add_axes((.1,.1,.8,.2))        \n",
    "    plt.hist(difference)\n",
    "    plt.grid()\n",
    "check_jitter_effect_confidence_plot_resid('E6')"
   ]
  },
  {
   "cell_type": "code",
   "execution_count": 39,
   "metadata": {
    "collapsed": false
   },
   "outputs": [
    {
     "data": {
      "image/png": "[encoded data removed]",
      "text/plain": [
       "<matplotlib.figure.Figure at 0x10fe94690>"
      ]
     },
     "metadata": {},
     "output_type": "display_data"
    }
   ],
   "source": [
    "check_jitter_effect_confidence_plot_resid('E33')"
   ]
  },
  {
   "cell_type": "markdown",
   "metadata": {},
   "source": [
    "###Criterion 7: Bids do not predict choices"
   ]
  },
  {
   "cell_type": "code",
   "execution_count": 40,
   "metadata": {
    "collapsed": false,
    "scrolled": true
   },
   "outputs": [
    {
     "name": "stdout",
     "output_type": "stream",
     "text": [
      "Optimization terminated successfully.\n",
      "         Current function value: 0.690545\n",
      "         Iterations 4\n",
      "E25                            Logit Regression Results                           \n",
      "==============================================================================\n",
      "Dep. Variable:            left_chosen   No. Observations:                   40\n",
      "Model:                          Logit   Df Residuals:                       38\n",
      "Method:                           MLE   Df Model:                            1\n",
      "Date:                Thu, 29 Jun 2017   Pseudo R-squ.:                0.003754\n",
      "Time:                        15:22:26   Log-Likelihood:                -27.622\n",
      "converged:                       True   LL-Null:                       -27.726\n",
      "                                        LLR p-value:                    0.6482\n",
      "==============================================================================================\n",
      "                                 coef    std err          z      P>|z|      [95.0% Conf. Int.]\n",
      "----------------------------------------------------------------------------------------------\n",
      "choice_dv_left_minus_right    -0.2607      0.573     -0.455      0.649        -1.384     0.862\n",
      "intercept                   1.944e-17      0.317   6.13e-17      1.000        -0.621     0.621\n",
      "==============================================================================================\n",
      "Optimization terminated successfully.\n",
      "         Current function value: 0.691581\n",
      "         Iterations 3\n",
      "E30                            Logit Regression Results                           \n",
      "==============================================================================\n",
      "Dep. Variable:            left_chosen   No. Observations:                   40\n",
      "Model:                          Logit   Df Residuals:                       38\n",
      "Method:                           MLE   Df Model:                            1\n",
      "Date:                Thu, 29 Jun 2017   Pseudo R-squ.:                0.002260\n",
      "Time:                        15:22:26   Log-Likelihood:                -27.663\n",
      "converged:                       True   LL-Null:                       -27.726\n",
      "                                        LLR p-value:                    0.7233\n",
      "==============================================================================================\n",
      "                                 coef    std err          z      P>|z|      [95.0% Conf. Int.]\n",
      "----------------------------------------------------------------------------------------------\n",
      "choice_dv_left_minus_right    -0.3137      0.887     -0.353      0.724        -2.053     1.426\n",
      "intercept                  -8.648e-17      0.317  -2.73e-16      1.000        -0.621     0.621\n",
      "==============================================================================================\n"
     ]
    },
    {
     "data": {
      "text/plain": [
       "(None, None)"
      ]
     },
     "execution_count": 40,
     "metadata": {},
     "output_type": "execute_result"
    }
   ],
   "source": [
    "def check_bid_predicting_choice(subj):\n",
    "    data_subset = data[data['participant']==subj]\n",
    "    data_subset = data_subset[data_subset['chosen'].notnull()]\n",
    "    data_subset['intercept'] = 1.0\n",
    "    logit = sm.Logit(data_subset['left_chosen'], data_subset[['choice_dv_left_minus_right','intercept']])\n",
    "    result = logit.fit()\n",
    "    print subj, result.summary()\n",
    "\n",
    "# for x in data['participant'].unique():\n",
    "#     check_bid_predicting_choice(x)\n",
    "\n",
    "check_bid_predicting_choice('E25'), check_bid_predicting_choice('E30')"
   ]
  },
  {
   "cell_type": "markdown",
   "metadata": {},
   "source": [
    "Two subjects (E6 and E28) could not be estimated using logistic regression because their choices were perfectly consistent and in line with their bids. Excluding these two participants, the mean coefficient is 5.217. To be included, participants' individual coefficients must be 20% of this (1.0434) or higher (after De Martino, Fleming, Garrett, and Dolan, 2012, Nature Neuroscience). Two participants (E25 and E30) failed to meet this criterion."
   ]
  },
  {
   "cell_type": "markdown",
   "metadata": {},
   "source": [
    "###Criterion 8: Learning performance not significantly above chance\n",
    "All participants completed 600 learning trials. From the cumulative density of the binomial distribution, in order to perform above chance with 95% certainty, they would need to get at least 320 answers correct."
   ]
  },
  {
   "cell_type": "code",
   "execution_count": 41,
   "metadata": {
    "collapsed": false
   },
   "outputs": [],
   "source": [
    "for x in data['participant'].unique():\n",
    "    data_subset = data[data['participant']==x]\n",
    "    data_subset = data_subset[data_subset['correct_counter'].notnull()]\n",
    "    performance = int(data_subset['correct_counter'].mean()) # The number of answers correct\n",
    "    \n",
    "    # If the cumulative density of the binomial distribution with 'performance' flips in 600 trials is less than 95%, print the participant to be excluded\n",
    "    if ss.binom.cdf(performance,600,0.5) < 0.95:\n",
    "        print x"
   ]
  },
  {
   "cell_type": "markdown",
   "metadata": {},
   "source": [
    "All participants performed significantly above chance level, and therefore none are excluded on this basis."
   ]
  },
  {
   "cell_type": "markdown",
   "metadata": {},
   "source": [
    "###Exclusion Summary and Criteria Adjustment\n",
    "Under these criteria, we would exclude a total of 10 participants.\n",
    "\n",
    "| Participant |                      | Exclusion Criterion      |                          |\n",
    "|-------------|----------------------|--------------------------|--------------------------|\n",
    "|             | 5 (confidence scale) | 6 (scale starting point) | 7 (bids predict choices) |\n",
    "| E5          |                      | X                        |                          |\n",
    "| E6          |                      | X                        |                          |\n",
    "| E11         | X                    |                          |                          |\n",
    "| E15         | X                    |                          |                          |\n",
    "| E18         | X                    | X                        |                          |\n",
    "| E19         | X                    |                          |                          |\n",
    "| E23         | X                    |                          |                          |\n",
    "| E25         | X                    | X                        | X                        |\n",
    "| E30         |                      |                          | X                        |\n",
    "| E33         |                      | X                        |                          |\n",
    "\n",
    "We worry that these criteria may be too strict, as they would exclude 10 out of 33 participants. We decided, therefore, to eliminate criteria 5 and 6 for two reasons: (1) the choice confidence analyses are not central to the study; and (2) these criteria may be unnecessarily strict given the analyses, which, unlike the De Martino et al. (2013) study on which they are based, only require some basic z-scored resolution. The decision to eliminate these criteria was made after data collection but before any further analysis was performed.\n",
    "\n",
    "As such, we exclude a total of two participants (E25 and E30)."
   ]
  },
  {
   "cell_type": "markdown",
   "metadata": {},
   "source": [
    "Redefine and save dataframe with these participants excluded:"
   ]
  },
  {
   "cell_type": "markdown",
   "metadata": {},
   "source": [
    "###Response Time Exclusions\n",
    "Based on my notes taken during testing, before the data were analyzed, there are several trials with exaggerated response times. This was usually due to my asking participants to pause during a learning trial because the eye tracker had lost their eye, or to a participant pausing to ask a question during the choice task. We first figure out which exact trials these were based on my notes (which listed the approximate trial) and by looking for unusually high response times (with a participant-level z-score greater than 3) around the trial noted. We then exclude the response times from these trials' data. \n",
    "\n",
    "Participant E1: \"Lost eye data for some trials (around trial 394), exaggerated RT for one trial as a result of stopping to readjust camera\""
   ]
  },
  {
   "cell_type": "code",
   "execution_count": 42,
   "metadata": {
    "collapsed": false
   },
   "outputs": [
    {
     "data": {
      "text/html": [
       "<div>\n",
       "<table border=\"1\" class=\"dataframe\">\n",
       "  <thead>\n",
       "    <tr style=\"text-align: right;\">\n",
       "      <th></th>\n",
       "      <th>participant</th>\n",
       "      <th>learning_trial</th>\n",
       "      <th>infer_resp_rt</th>\n",
       "      <th>infer_resp_rt_zscore</th>\n",
       "    </tr>\n",
       "  </thead>\n",
       "  <tbody>\n",
       "    <tr>\n",
       "      <th>236</th>\n",
       "      <td>E1</td>\n",
       "      <td>392</td>\n",
       "      <td>121.530282</td>\n",
       "      <td>24.258728</td>\n",
       "    </tr>\n",
       "  </tbody>\n",
       "</table>\n",
       "</div>"
      ],
      "text/plain": [
       "    participant  learning_trial  infer_resp_rt  infer_resp_rt_zscore\n",
       "236          E1             392     121.530282             24.258728"
      ]
     },
     "execution_count": 42,
     "metadata": {},
     "output_type": "execute_result"
    }
   ],
   "source": [
    "data[(data['infer_resp_rt_zscore']>3)&(data['participant']=='E1')][['participant','learning_trial','infer_resp_rt','infer_resp_rt_zscore']]"
   ]
  },
  {
   "cell_type": "markdown",
   "metadata": {},
   "source": [
    "The noted trial appears to be number 392 for participant E1."
   ]
  },
  {
   "cell_type": "code",
   "execution_count": 43,
   "metadata": {
    "collapsed": false
   },
   "outputs": [],
   "source": [
    "#Replace exaggerated RT with missing value\n",
    "data.loc[236,'infer_resp_rt'] = np.nan"
   ]
  },
  {
   "cell_type": "markdown",
   "metadata": {},
   "source": [
    "Participant E3: \"Buzzed during choice task to ask if it was supposed to be done with eye tracking (on trial with sardines)\""
   ]
  },
  {
   "cell_type": "code",
   "execution_count": 44,
   "metadata": {
    "collapsed": false
   },
   "outputs": [
    {
     "data": {
      "text/html": [
       "<div>\n",
       "<table border=\"1\" class=\"dataframe\">\n",
       "  <thead>\n",
       "    <tr style=\"text-align: right;\">\n",
       "      <th></th>\n",
       "      <th>participant</th>\n",
       "      <th>choice_left</th>\n",
       "      <th>choice_right</th>\n",
       "      <th>key_resp_choice_rt</th>\n",
       "      <th>key_resp_choice_rt_zscore</th>\n",
       "    </tr>\n",
       "  </thead>\n",
       "  <tbody>\n",
       "    <tr>\n",
       "      <th>16246</th>\n",
       "      <td>E3</td>\n",
       "      <td>40-sardines.png</td>\n",
       "      <td>5-pineapple.png</td>\n",
       "      <td>27.282386</td>\n",
       "      <td>5.390538</td>\n",
       "    </tr>\n",
       "  </tbody>\n",
       "</table>\n",
       "</div>"
      ],
      "text/plain": [
       "      participant      choice_left     choice_right  key_resp_choice_rt  \\\n",
       "16246          E3  40-sardines.png  5-pineapple.png           27.282386   \n",
       "\n",
       "       key_resp_choice_rt_zscore  \n",
       "16246                   5.390538  "
      ]
     },
     "execution_count": 44,
     "metadata": {},
     "output_type": "execute_result"
    }
   ],
   "source": [
    "data[(data['participant']=='E3')&(data['key_resp_choice_rt_zscore']>3)][['participant','choice_left','choice_right','key_resp_choice_rt','key_resp_choice_rt_zscore']]"
   ]
  },
  {
   "cell_type": "code",
   "execution_count": 45,
   "metadata": {
    "collapsed": false
   },
   "outputs": [],
   "source": [
    "data.loc[16246,'key_resp_choice_rt'] = np.nan"
   ]
  },
  {
   "cell_type": "markdown",
   "metadata": {},
   "source": [
    "Just to make sure it wasn't the other sardines choice trial:"
   ]
  },
  {
   "cell_type": "code",
   "execution_count": 46,
   "metadata": {
    "collapsed": false
   },
   "outputs": [
    {
     "data": {
      "text/html": [
       "<div>\n",
       "<table border=\"1\" class=\"dataframe\">\n",
       "  <thead>\n",
       "    <tr style=\"text-align: right;\">\n",
       "      <th></th>\n",
       "      <th>participant</th>\n",
       "      <th>choice_left</th>\n",
       "      <th>choice_right</th>\n",
       "      <th>key_resp_choice_rt</th>\n",
       "    </tr>\n",
       "  </thead>\n",
       "  <tbody>\n",
       "    <tr>\n",
       "      <th>16240</th>\n",
       "      <td>E3</td>\n",
       "      <td>5-pineapple.png</td>\n",
       "      <td>40-sardines.png</td>\n",
       "      <td>1.28338</td>\n",
       "    </tr>\n",
       "  </tbody>\n",
       "</table>\n",
       "</div>"
      ],
      "text/plain": [
       "      participant      choice_left     choice_right  key_resp_choice_rt\n",
       "16240          E3  5-pineapple.png  40-sardines.png             1.28338"
      ]
     },
     "execution_count": 46,
     "metadata": {},
     "output_type": "execute_result"
    }
   ],
   "source": [
    "data[(data['participant']=='E3')&(data['choice_right']=='40-sardines.png')][['participant','choice_left','choice_right','key_resp_choice_rt']]"
   ]
  },
  {
   "cell_type": "markdown",
   "metadata": {},
   "source": [
    "Participant E21: \"Cursor on screen for part of first block; eye tracker lost eye around trials 42, 399-400, and 438. I asked participant to pause around these trials while I re-captured the eye.\""
   ]
  },
  {
   "cell_type": "code",
   "execution_count": 47,
   "metadata": {
    "collapsed": false
   },
   "outputs": [
    {
     "data": {
      "text/html": [
       "<div>\n",
       "<table border=\"1\" class=\"dataframe\">\n",
       "  <thead>\n",
       "    <tr style=\"text-align: right;\">\n",
       "      <th></th>\n",
       "      <th>participant</th>\n",
       "      <th>learning_trial</th>\n",
       "      <th>infer_resp_rt</th>\n",
       "    </tr>\n",
       "  </thead>\n",
       "  <tbody>\n",
       "    <tr>\n",
       "      <th>9224</th>\n",
       "      <td>E21</td>\n",
       "      <td>399</td>\n",
       "      <td>7.950210</td>\n",
       "    </tr>\n",
       "    <tr>\n",
       "      <th>9569</th>\n",
       "      <td>E21</td>\n",
       "      <td>437</td>\n",
       "      <td>15.733126</td>\n",
       "    </tr>\n",
       "    <tr>\n",
       "      <th>9607</th>\n",
       "      <td>E21</td>\n",
       "      <td>41</td>\n",
       "      <td>19.599863</td>\n",
       "    </tr>\n",
       "  </tbody>\n",
       "</table>\n",
       "</div>"
      ],
      "text/plain": [
       "     participant  learning_trial  infer_resp_rt\n",
       "9224         E21             399       7.950210\n",
       "9569         E21             437      15.733126\n",
       "9607         E21              41      19.599863"
      ]
     },
     "execution_count": 47,
     "metadata": {},
     "output_type": "execute_result"
    }
   ],
   "source": [
    "data[(data['participant']=='E21')&(data['infer_resp_rt_zscore']>3)][['participant','learning_trial','infer_resp_rt']]"
   ]
  },
  {
   "cell_type": "code",
   "execution_count": 48,
   "metadata": {
    "collapsed": false
   },
   "outputs": [],
   "source": [
    "data.loc[9224,'infer_resp_rt'] = np.nan\n",
    "data.loc[9569, 'infer_resp_rt'] = np.nan\n",
    "data.loc[9607, 'infer_resp_rt'] = np.nan"
   ]
  },
  {
   "cell_type": "markdown",
   "metadata": {},
   "source": [
    "Participant E31: \"...buzzed in middle of choice task to confirm that '6' is most confident on the confidence scale\""
   ]
  },
  {
   "cell_type": "code",
   "execution_count": 49,
   "metadata": {
    "collapsed": false
   },
   "outputs": [
    {
     "data": {
      "text/html": [
       "<div>\n",
       "<table border=\"1\" class=\"dataframe\">\n",
       "  <thead>\n",
       "    <tr style=\"text-align: right;\">\n",
       "      <th></th>\n",
       "      <th>participant</th>\n",
       "      <th>key_resp_choice_rt</th>\n",
       "    </tr>\n",
       "  </thead>\n",
       "  <tbody>\n",
       "    <tr>\n",
       "      <th>17663</th>\n",
       "      <td>E31</td>\n",
       "      <td>30.566257</td>\n",
       "    </tr>\n",
       "  </tbody>\n",
       "</table>\n",
       "</div>"
      ],
      "text/plain": [
       "      participant  key_resp_choice_rt\n",
       "17663         E31           30.566257"
      ]
     },
     "execution_count": 49,
     "metadata": {},
     "output_type": "execute_result"
    }
   ],
   "source": [
    "data[(data['participant']=='E31')&(data['key_resp_choice_rt_zscore']>3)][['participant','key_resp_choice_rt']]"
   ]
  },
  {
   "cell_type": "code",
   "execution_count": 50,
   "metadata": {
    "collapsed": false
   },
   "outputs": [],
   "source": [
    "data.loc[17663,'key_resp_choice_rt'] = np.nan"
   ]
  },
  {
   "cell_type": "markdown",
   "metadata": {},
   "source": [
    "Next we recalculate the response time z-scores:"
   ]
  },
  {
   "cell_type": "code",
   "execution_count": 51,
   "metadata": {
    "collapsed": false
   },
   "outputs": [],
   "source": [
    "choice_rt_means = data.groupby(['participant']).key_resp_choice_rt.mean()\n",
    "choice_rt_sds = data.groupby(['participant']).key_resp_choice_rt.std(ddof=0)\n",
    "\n",
    "for x in range(1,len(data)+1):\n",
    "    p = data.loc[x,'participant']\n",
    "    p_mean = choice_rt_means[p]\n",
    "    p_sd = choice_rt_sds[p]\n",
    "    rt = data.loc[x,'key_resp_choice_rt']\n",
    "    data.loc[x,'key_resp_choice_rt_zscore'] = (rt - p_mean)/p_sd\n",
    "    \n",
    "rt_means = data.groupby(['participant']).infer_resp_rt.mean()\n",
    "rt_sds = data.groupby(['participant']).infer_resp_rt.std(ddof=0)\n",
    "\n",
    "for x in range(1,len(data)+1):\n",
    "    p = data.loc[x,'participant']\n",
    "    p_mean = rt_means[p]\n",
    "    p_sd = rt_sds[p]\n",
    "    rt = data.loc[x,'infer_resp_rt']\n",
    "    data.loc[x,'infer_resp_rt_zscore'] = (rt - p_mean)/p_sd"
   ]
  },
  {
   "cell_type": "markdown",
   "metadata": {},
   "source": [
    "And copy these new response times and their z-scores to the inference trials:"
   ]
  },
  {
   "cell_type": "code",
   "execution_count": 52,
   "metadata": {
    "collapsed": false
   },
   "outputs": [],
   "source": [
    "data.chc_correct_on_left_rt = np.nan\n",
    "data.chc_correct_on_left_rt_zscore = np.nan\n",
    "data.chc_correct_on_right_rt = np.nan\n",
    "data.chc_correct_on_right_rt_zscore = np.nan\n",
    "\n",
    "for x in range(1,len(data)+1): # For all rows...\n",
    "    if not pd.isnull(data.loc[x,'img_correct']) and pd.isnull(data.loc[x,'practice_loop_thisTrialN']): # ... if there is a value in 'img_correct' indicating that row is from the inference task, and it is not in the practice block\n",
    "    # CHOICE RESPONSE TIMES\n",
    "    # Get the choice response tims from the choice task, from the trials where the correct item appears on the LEFT   \n",
    "        chc_left_inf_all = data[data.loc[x,'img_correct']==data.choice_left] \n",
    "        chc_left_inf_participant = chc_left_inf_all[data['participant']==data.loc[x,'participant']]\n",
    "        chc_left_inf_participant_notnull = chc_left_inf_participant[chc_left_inf_participant['key_resp_choice_rt'].notnull()] \n",
    "        if len(chc_left_inf_participant_notnull) > 0:\n",
    "            chc_left_inf_participant_notnull_index = chc_left_inf_participant_notnull['key_resp_choice_rt'].idxmax()\n",
    "            data.loc[x,'chc_correct_on_left_rt'] = chc_left_inf_participant_notnull.loc[chc_left_inf_participant_notnull_index,'key_resp_choice_rt'] \n",
    "            data.loc[x,'chc_correct_on_left_rt_zscore'] = chc_left_inf_participant_notnull.loc[chc_left_inf_participant_notnull_index,'key_resp_choice_rt_zscore'] \n",
    "        else:\n",
    "            data.loc[x,'chc_correct_on_left_rt'] = np.nan\n",
    "            data.loc[x,'chc_correct_on_left_rt_zscore'] = np.nan\n",
    "    # Get the choice response tims from the choice task, from the trials where the correct item appears on the RIGHT   \n",
    "        chc_right_inf_all = data[data.loc[x,'img_correct']==data.choice_right] \n",
    "        chc_right_inf_participant = chc_right_inf_all[data['participant']==data.loc[x,'participant']]\n",
    "        chc_right_inf_participant_notnull = chc_right_inf_participant[chc_right_inf_participant['key_resp_choice_rt'].notnull()] \n",
    "        if len(chc_right_inf_participant_notnull) > 0:\n",
    "            chc_right_inf_participant_notnull_index = chc_right_inf_participant_notnull['key_resp_choice_rt'].idxmax()\n",
    "            data.loc[x,'chc_correct_on_right_rt'] = chc_right_inf_participant_notnull.loc[chc_right_inf_participant_notnull_index,'key_resp_choice_rt'] \n",
    "            data.loc[x,'chc_correct_on_right_rt_zscore'] = chc_right_inf_participant_notnull.loc[chc_right_inf_participant_notnull_index,'key_resp_choice_rt_zscore']\n",
    "        else:\n",
    "            data.loc[x,'chc_correct_on_right_rt'] = 0\n",
    "            data.loc[x,'chc_correct_on_right_rt_zscore'] = 0"
   ]
  },
  {
   "cell_type": "code",
   "execution_count": 53,
   "metadata": {
    "collapsed": false
   },
   "outputs": [],
   "source": [
    "data = data[data['participant']!='E25']\n",
    "data = data[data['participant']!='E30']\n",
    "data.reset_index(drop=True)\n",
    "data.to_csv(path_or_buf=r'../data/social/data_processed_social_wexclusions.csv')\n",
    "data.to_pickle(r'../data/social/data_processed_social_wexclusions.pkl')"
   ]
  }
 ],
 "metadata": {
  "gist_id": "56d54360661ad30ee0a0",
  "kernelspec": {
   "display_name": "Python 2",
   "language": "python",
   "name": "python2"
  },
  "language_info": {
   "codemirror_mode": {
    "name": "ipython",
    "version": 2
   },
   "file_extension": ".py",
   "mimetype": "text/x-python",
   "name": "python",
   "nbconvert_exporter": "python",
   "pygments_lexer": "ipython2",
   "version": "2.7.10"
  }
 },
 "nbformat": 4,
 "nbformat_minor": 0
}
