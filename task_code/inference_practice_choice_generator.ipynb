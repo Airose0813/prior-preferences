{
 "metadata": {
  "name": "",
  "signature": "sha256:5d636e6357a703a669d86e90a8ff9f0d63014bd2f8200dfdd737ee44fce6863e"
 },
 "nbformat": 3,
 "nbformat_minor": 0,
 "worksheets": [
  {
   "cells": [
    {
     "cell_type": "code",
     "collapsed": false,
     "input": [
      "# This script was used to generate the random item choices that participants were asked to infer during the practice block of the inference task.\n",
      "import numpy as np\n",
      "\n",
      "practice_pairs = [[9, 37], [15, 28], [11, 54], [24, 32], [52, 14], [53, 47], [39, 12]]\n",
      "practice_pairs_choices = []\n",
      "for x in practice_pairs:\n",
      "    choice = np.random.choice(x, size=None)\n",
      "    practice_pairs_choices.append(choice)\n",
      "print practice_pairs_choices\n",
      "\n"
     ],
     "language": "python",
     "metadata": {},
     "outputs": [
      {
       "metadata": {},
       "output_type": "pyout",
       "prompt_number": 4,
       "text": [
        "[37, 15, 11, 32, 52, 53, 12]"
       ]
      }
     ],
     "prompt_number": 4
    },
    {
     "cell_type": "markdown",
     "metadata": {},
     "source": [
      "The above script was run on October 8th, 2014, and produced the following choices:\n",
      "[37, 15, 11, 32, 52, 53, 12]"
     ]
    }
   ],
   "metadata": {}
  }
 ]
}