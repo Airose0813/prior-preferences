{
 "metadata": {
  "name": "",
  "signature": "sha256:23c4ffd221eca2674a0186cd0caa356b21da4a34be56ae5bc6a9ce1b1b5ecc2c"
 },
 "nbformat": 3,
 "nbformat_minor": 0,
 "worksheets": [
  {
   "cells": [
    {
     "cell_type": "markdown",
     "metadata": {},
     "source": [
      "This script was used to generate the random item pairings. Numbers were taken in pairs (i.e. the first and second item in the sequence were paired, then the third and fourth, and so on) to construct item pairs. 14 of the original 54 items were set aside a priori to be used in the practice trials. These items were paired randomly as an independent set."
     ]
    },
    {
     "cell_type": "code",
     "collapsed": false,
     "input": [
      "import numpy as np\n",
      "\n",
      "practice = [9, 11, 12, 14, 15, 24, 28, 32, 37, 39, 47, 52, 53, 54]\n",
      "real = [x for x in range(1,55) if x not in practice]\n",
      "\n",
      "practice_seq = np.random.permutation(practice).reshape(-1, 2)\n",
      "real_seq = np.random.permutation(real).reshape(-1, 2)\n",
      "\n",
      "print practice_seq\n",
      "print real_seq"
     ],
     "language": "python",
     "metadata": {},
     "outputs": [
      {
       "output_type": "stream",
       "stream": "stdout",
       "text": [
        "[[ 9 37]\n",
        " [15 28]\n",
        " [11 54]\n",
        " [24 32]\n",
        " [52 14]\n",
        " [53 47]\n",
        " [39 12]]\n",
        "[[19 30]\n",
        " [46 29]\n",
        " [16 42]\n",
        " [26 44]\n",
        " [ 4 10]\n",
        " [45 41]\n",
        " [43 18]\n",
        " [34 36]\n",
        " [22  7]\n",
        " [49 35]\n",
        " [48 50]\n",
        " [25 31]\n",
        " [40  5]\n",
        " [ 6 38]\n",
        " [21  1]\n",
        " [27 51]\n",
        " [20  2]\n",
        " [23 33]\n",
        " [ 3 13]\n",
        " [ 8 17]]\n"
       ]
      }
     ],
     "prompt_number": 39
    },
    {
     "cell_type": "markdown",
     "metadata": {},
     "source": [
      "The above script was run on October 7th, 2014, and produced the following sequences:\n",
      "\n",
      "Practice (practice_seq):\n",
      "[[ 9 37]\n",
      " [15 28]\n",
      " [11 54]\n",
      " [24 32]\n",
      " [52 14]\n",
      " [53 47]\n",
      " [39 12]]\n",
      " \n",
      "Real (real_seq):\n",
      "[[19 30]\n",
      " [46 29]\n",
      " [16 42]\n",
      " [26 44]\n",
      " [ 4 10]\n",
      " [45 41]\n",
      " [43 18]\n",
      " [34 36]\n",
      " [22  7]\n",
      " [49 35]\n",
      " [48 50]\n",
      " [25 31]\n",
      " [40  5]\n",
      " [ 6 38]\n",
      " [21  1]\n",
      " [27 51]\n",
      " [20  2]\n",
      " [23 33]\n",
      " [ 3 13]\n",
      " [ 8 17]]"
     ]
    }
   ],
   "metadata": {}
  }
 ]
}